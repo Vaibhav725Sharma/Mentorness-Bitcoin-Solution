{
 "cells": [
  {
   "cell_type": "markdown",
   "metadata": {},
   "source": [
    "# Objective\n",
    "\n",
    "You are required to demonstrate your ability to manipulate data using Python, including filtering,\n",
    "looping, and conditional statements. The task involves creating a data frame, adding the data,\n",
    "performing exploratory data analysis (EDA), and applying additional operations. "
   ]
  },
  {
   "cell_type": "markdown",
   "metadata": {},
   "source": [
    "## 1. Creating a DataFrame:"
   ]
  },
  {
   "cell_type": "markdown",
   "metadata": {},
   "source": [
    "#### 1. importing librarys"
   ]
  },
  {
   "cell_type": "code",
   "execution_count": 1,
   "metadata": {},
   "outputs": [],
   "source": [
    "import requests\n",
    "import pandas as pd"
   ]
  },
  {
   "cell_type": "markdown",
   "metadata": {},
   "source": [
    "#### 2. Define the API endpoint URL"
   ]
  },
  {
   "cell_type": "code",
   "execution_count": 2,
   "metadata": {},
   "outputs": [],
   "source": [
    "# Define your API key and URL\n",
    "api_key = '93P64L33YRQ8RFDN'\n",
    "url = 'https://www.alphavantage.co/query'\n",
    "params = {\n",
    "    'function': 'TIME_SERIES_DAILY',\n",
    "    'symbol': 'BTCUSD',  # Use BTCUSD for Bitcoin data\n",
    "    'apikey': api_key\n",
    "}\n",
    "\n",
    "response = requests.get(url, params=params)\n"
   ]
  },
  {
   "cell_type": "markdown",
   "metadata": {},
   "source": [
    "#### 3. Make the API request"
   ]
  },
  {
   "cell_type": "code",
   "execution_count": 5,
   "metadata": {},
   "outputs": [
    {
     "name": "stdout",
     "output_type": "stream",
     "text": [
      "Response Data: {'Meta Data': {'1. Information': 'Daily Prices (open, high, low, close) and Volumes', '2. Symbol': 'BTCUSD', '3. Last Refreshed': '2024-09-09', '4. Output Size': 'Compact', '5. Time Zone': 'US/Eastern'}, 'Time Series (Daily)': {'2024-09-09': {'1. open': '54885.6735', '2. high': '55585.8705', '3. low': '54577.1040', '4. close': '55277.4629', '5. volume': '3922'}, '2024-09-08': {'1. open': '54171.2551', '2. high': '55328.6738', '3. low': '53630.8434', '4. close': '54889.4399', '5. volume': '6472'}, '2024-09-07': {'1. open': '53986.9493', '2. high': '54892.5449', '3. low': '53775.0980', '4. close': '54186.2042', '5. volume': '6160'}, '2024-09-06': {'1. open': '56174.8742', '2. high': '57004.0633', '3. low': '52555.1342', '4. close': '53967.3797', '5. volume': '26159'}, '2024-09-05': {'1. open': '57989.7989', '2. high': '58337.9216', '3. low': '55647.8231', '4. close': '56178.0057', '5. volume': '17146'}, '2024-09-04': {'1. open': '57488.1125', '2. high': '58539.4158', '3. low': '55614.8874', '4. close': '57984.8918', '5. volume': '19553'}, '2024-09-03': {'1. open': '59149.6963', '2. high': '59832.8527', '3. low': '57415.1733', '4. close': '57492.6503', '5. volume': '11722'}, '2024-09-02': {'1. open': '57309.4442', '2. high': '59438.0155', '3. low': '57145.0766', '4. close': '59156.9152', '5. volume': '7404'}, '2024-09-01': {'1. open': '58997.9922', '2. high': '59091.9871', '3. low': '57222.6019', '4. close': '57330.0059', '5. volume': '7848'}, '2024-08-31': {'1. open': '59164.2356', '2. high': '59488.7069', '3. low': '58793.6445', '4. close': '59017.4228', '5. volume': '3079'}, '2024-08-30': {'1. open': '59377.4639', '2. high': '59946.9453', '3. low': '57728.1134', '4. close': '59137.3628', '5. volume': '14300'}, '2024-08-29': {'1. open': '59052.0793', '2. high': '61196.4107', '3. low': '58739.2547', '4. close': '59375.5798', '5. volume': '15403'}, '2024-08-28': {'1. open': '59442.8476', '2. high': '60234.4299', '3. low': '57867.9188', '4. close': '59048.7648', '5. volume': '15011'}, '2024-08-27': {'1. open': '62792.0244', '2. high': '63231.0873', '3. low': '58044.8491', '4. close': '59445.3731', '5. volume': '19005'}, '2024-08-26': {'1. open': '64272.1464', '2. high': '64505.9795', '3. low': '62844.2731', '4. close': '62872.2651', '5. volume': '2772'}, '2024-08-25': {'1. open': '64185.4726', '2. high': '65105.8167', '3. low': '63834.2012', '4. close': '64282.8296', '5. volume': '1504'}, '2024-08-24': {'1. open': '64100.5863', '2. high': '64517.0810', '3. low': '63613.7813', '4. close': '64182.4397', '5. volume': '1792'}, '2024-08-23': {'1. open': '60397.0878', '2. high': '64991.6888', '3. low': '60371.1148', '4. close': '64094.4850', '5. volume': '6064'}, '2024-08-22': {'1. open': '61177.7340', '2. high': '61421.0982', '3. low': '59783.3383', '4. close': '60394.3551', '5. volume': '3437'}, '2024-08-21': {'1. open': '59027.9017', '2. high': '61262.0669', '3. low': '58813.0805', '4. close': '61013.2536', '5. volume': '13225'}, '2024-08-20': {'1. open': '59467.7773', '2. high': '61448.1425', '3. low': '58579.8242', '4. close': '59027.5628', '5. volume': '16294'}, '2024-08-19': {'1. open': '58440.4816', '2. high': '59637.5259', '3. low': '57832.9159', '4. close': '59466.3077', '5. volume': '11763'}, '2024-08-18': {'1. open': '59501.6920', '2. high': '60281.4216', '3. low': '58429.8529', '4. close': '58445.6424', '5. volume': '6661'}, '2024-08-17': {'1. open': '58891.4061', '2. high': '59711.0060', '3. low': '58814.3936', '4. close': '59497.6669', '5. volume': '4049'}, '2024-08-16': {'1. open': '57547.2765', '2. high': '59865.0578', '3. low': '57100.1509', '4. close': '58891.0516', '5. volume': '16280'}, '2024-08-15': {'1. open': '58695.4221', '2. high': '59878.2789', '3. low': '56128.4849', '4. close': '57548.4441', '5. volume': '20246'}, '2024-08-14': {'1. open': '60607.0322', '2. high': '61824.3355', '3. low': '58461.5690', '4. close': '58697.0327', '5. volume': '18192'}, '2024-08-13': {'1. open': '59363.3095', '2. high': '61609.3385', '3. low': '58426.1508', '4. close': '60609.9374', '5. volume': '16131'}, '2024-08-12': {'1. open': '58721.3915', '2. high': '60714.7154', '3. low': '57663.5495', '4. close': '59362.9540', '5. volume': '17573'}, '2024-08-11': {'1. open': '60941.3089', '2. high': '61866.3962', '3. low': '58319.9732', '4. close': '58726.9612', '5. volume': '7778'}, '2024-08-10': {'1. open': '60861.8993', '2. high': '61492.8484', '3. low': '60264.2315', '4. close': '60942.3369', '5. volume': '4723'}, '2024-08-09': {'1. open': '61710.6346', '2. high': '61760.0402', '3. low': '59558.9783', '4. close': '60863.4492', '5. volume': '15500'}, '2024-08-08': {'1. open': '55143.8428', '2. high': '62746.7327', '3. low': '54746.9208', '4. close': '61708.9951', '5. volume': '28481'}, '2024-08-07': {'1. open': '56053.5599', '2. high': '57754.5320', '3. low': '54569.3721', '4. close': '55144.7624', '5. volume': '20453'}, '2024-08-06': {'1. open': '54044.8896', '2. high': '57090.2297', '3. low': '53978.6579', '4. close': '56058.9661', '5. volume': '21234'}, '2024-08-05': {'1. open': '58136.5648', '2. high': '58287.1297', '3. low': '49119.8297', '4. close': '54037.0218', '5. volume': '81896'}, '2024-08-04': {'1. open': '60681.4917', '2. high': '61083.9514', '3. low': '57141.0091', '4. close': '58135.2401', '5. volume': '14551'}, '2024-08-03': {'1. open': '61426.6224', '2. high': '62170.2821', '3. low': '59836.4670', '4. close': '60686.7443', '5. volume': '11985'}, '2024-08-02': {'1. open': '65302.7842', '2. high': '65559.4327', '3. low': '61162.9736', '4. close': '61424.1606', '5. volume': '21837'}, '2024-08-01': {'1. open': '64617.9204', '2. high': '65596.3961', '3. low': '62230.3209', '4. close': '65301.8040', '5. volume': '21769'}, '2024-07-31': {'1. open': '66177.5434', '2. high': '66836.2338', '3. low': '64507.5466', '4. close': '64615.7788', '5. volume': '12169'}, '2024-07-30': {'1. open': '66775.5940', '2. high': '67001.7667', '3. low': '65304.5492', '4. close': '66180.4694', '5. volume': '12239'}, '2024-07-29': {'1. open': '68255.1930', '2. high': '70011.6646', '3. low': '66429.8759', '4. close': '66782.9995', '5. volume': '18999'}, '2024-07-28': {'1. open': '67894.4083', '2. high': '68309.8891', '3. low': '67040.1206', '4. close': '68254.1721', '5. volume': '4816'}, '2024-07-27': {'1. open': '67933.0827', '2. high': '69420.0149', '3. low': '66648.4885', '4. close': '67902.6700', '5. volume': '14120'}, '2024-07-26': {'1. open': '65800.2946', '2. high': '68252.0107', '3. low': '65718.5912', '4. close': '67930.3507', '5. volume': '13042'}, '2024-07-25': {'1. open': '65370.3687', '2. high': '66159.9848', '3. low': '63423.8517', '4. close': '65799.2439', '5. volume': '14849'}, '2024-07-24': {'1. open': '65948.3817', '2. high': '67132.9745', '3. low': '65107.4463', '4. close': '65376.1734', '5. volume': '11439'}, '2024-07-23': {'1. open': '67567.3383', '2. high': '67786.8170', '3. low': '65451.0213', '4. close': '65942.9473', '5. volume': '15659'}, '2024-07-22': {'1. open': '68181.8967', '2. high': '68496.0750', '3. low': '66578.9525', '4. close': '67566.0392', '5. volume': '16059'}, '2024-07-21': {'1. open': '67170.5364', '2. high': '68380.4631', '3. low': '65834.6905', '4. close': '68180.8762', '5. volume': '9203'}, '2024-07-20': {'1. open': '66712.7271', '2. high': '67634.4005', '3. low': '66281.0004', '4. close': '67167.2339', '5. volume': '6607'}, '2024-07-19': {'1. open': '63980.0903', '2. high': '67493.6398', '3. low': '63300.1956', '4. close': '66711.1001', '5. volume': '20573'}, '2024-07-18': {'1. open': '64096.7560', '2. high': '65128.3288', '3. low': '63227.8654', '4. close': '63982.6587', '5. volume': '10838'}, '2024-07-17': {'1. open': '65087.8466', '2. high': '66133.3216', '3. low': '63863.3166', '4. close': '64093.7365', '5. volume': '14307'}, '2024-07-16': {'1. open': '64763.3036', '2. high': '65367.6664', '3. low': '62425.6750', '4. close': '65089.7077', '5. volume': '20571'}, '2024-07-15': {'1. open': '60814.5227', '2. high': '64942.3011', '3. low': '60679.6290', '4. close': '64766.8665', '5. volume': '27666'}, '2024-07-14': {'1. open': '59246.8885', '2. high': '61436.5853', '3. low': '59236.4684', '4. close': '60825.8906', '5. volume': '9347'}, '2024-07-13': {'1. open': '57921.8193', '2. high': '59884.8259', '3. low': '57789.3306', '4. close': '59239.3044', '5. volume': '6781'}, '2024-07-12': {'1. open': '57352.6243', '2. high': '58554.4631', '3. low': '56549.4358', '4. close': '57916.0356', '5. volume': '14854'}, '2024-07-11': {'1. open': '57729.1281', '2. high': '59538.9250', '3. low': '57062.0504', '4. close': '57351.9531', '5. volume': '16181'}, '2024-07-10': {'1. open': '58052.3946', '2. high': '59486.3925', '3. low': '57168.5649', '4. close': '57730.5104', '5. volume': '15810'}, '2024-07-09': {'1. open': '56714.7773', '2. high': '58301.0296', '3. low': '56297.0214', '4. close': '58055.7414', '5. volume': '16724'}, '2024-07-08': {'1. open': '55864.3083', '2. high': '58207.9795', '3. low': '54297.2586', '4. close': '56712.7571', '5. volume': '25909'}, '2024-07-07': {'1. open': '58252.3293', '2. high': '58459.4849', '3. low': '55746.0271', '4. close': '55873.3024', '5. volume': '7794'}, '2024-07-06': {'1. open': '56653.9035', '2. high': '58490.8707', '3. low': '56050.0375', '4. close': '58258.0635', '5. volume': '9566'}, '2024-07-05': {'1. open': '57041.6898', '2. high': '57520.8348', '3. low': '53481.9737', '4. close': '56649.0461', '5. volume': '37240'}, '2024-07-04': {'1. open': '60163.5651', '2. high': '60439.7319', '3. low': '56726.7324', '4. close': '57049.2000', '5. volume': '24261'}, '2024-07-03': {'1. open': '62050.6461', '2. high': '62207.4260', '3. low': '59342.8145', '4. close': '60155.0311', '5. volume': '16459'}, '2024-07-02': {'1. open': '62835.6639', '2. high': '63225.2546', '3. low': '61155.5633', '4. close': '62046.9449', '5. volume': '13419'}, '2024-07-01': {'1. open': '62680.1992', '2. high': '63805.4658', '3. low': '62459.8882', '4. close': '62836.6611', '5. volume': '16173'}, '2024-06-30': {'1. open': '60902.7821', '2. high': '62957.0658', '3. low': '60636.2515', '4. close': '62689.4414', '5. volume': '6316'}, '2024-06-29': {'1. open': '60351.7770', '2. high': '61159.0118', '3. low': '60317.7892', '4. close': '60917.6357', '5. volume': '4782'}, '2024-06-28': {'1. open': '61622.2580', '2. high': '62173.7588', '3. low': '59892.4368', '4. close': '60327.5649', '5. volume': '15027'}, '2024-06-27': {'1. open': '60829.4110', '2. high': '62356.1977', '3. low': '60565.1319', '4. close': '61635.7151', '5. volume': '14273'}, '2024-06-26': {'1. open': '61800.5949', '2. high': '62474.8979', '3. low': '60667.1578', '4. close': '60821.9519', '5. volume': '14506'}, '2024-06-25': {'1. open': '60269.3222', '2. high': '62403.3041', '3. low': '60228.4261', '4. close': '61797.4022', '5. volume': '21352'}, '2024-06-24': {'1. open': '63178.2357', '2. high': '63345.9906', '3. low': '58433.7926', '4. close': '60273.7886', '5. volume': '31082'}, '2024-06-23': {'1. open': '64259.8383', '2. high': '64516.7634', '3. low': '63157.0977', '4. close': '63187.4435', '5. volume': '3512'}, '2024-06-22': {'1. open': '64137.8610', '2. high': '64532.5391', '3. low': '63935.2992', '4. close': '64256.4758', '5. volume': '3235'}, '2024-06-21': {'1. open': '64854.2679', '2. high': '65029.9022', '3. low': '63326.1854', '4. close': '64126.3412', '5. volume': '13724'}, '2024-06-20': {'1. open': '64954.9516', '2. high': '66464.8581', '3. low': '64517.6396', '4. close': '64853.4474', '5. volume': '13918'}, '2024-06-19': {'1. open': '65161.3908', '2. high': '65717.4684', '3. low': '64656.8101', '4. close': '64957.0403', '5. volume': '7065'}, '2024-06-18': {'1. open': '66487.2549', '2. high': '66573.7735', '3. low': '64026.4311', '4. close': '65159.5009', '5. volume': '21603'}, '2024-06-17': {'1. open': '66630.5646', '2. high': '67273.1309', '3. low': '65056.6521', '4. close': '66483.4720', '5. volume': '18813'}, '2024-06-16': {'1. open': '66193.2732', '2. high': '66926.3705', '3. low': '66008.0772', '4. close': '66633.1169', '5. volume': '3474'}, '2024-06-15': {'1. open': '66003.0090', '2. high': '66424.2942', '3. low': '65810.8475', '4. close': '66191.9678', '5. volume': '3107'}, '2024-06-14': {'1. open': '66751.6157', '2. high': '67322.4438', '3. low': '65002.4355', '4. close': '66004.5538', '5. volume': '16403'}, '2024-06-13': {'1. open': '68248.3123', '2. high': '68467.9331', '3. low': '66212.8081', '4. close': '66739.6731', '5. volume': '15676'}, '2024-06-12': {'1. open': '67316.5113', '2. high': '70026.5463', '3. low': '66889.8011', '4. close': '68248.5054', '5. volume': '22272'}, '2024-06-11': {'1. open': '69501.3280', '2. high': '69548.5697', '3. low': '66032.5416', '4. close': '67317.1249', '5. volume': '23048'}, '2024-06-10': {'1. open': '69646.0271', '2. high': '70180.5995', '3. low': '69149.6706', '4. close': '69501.4381', '5. volume': '8244'}, '2024-06-09': {'1. open': '69308.9634', '2. high': '69838.3565', '3. low': '69122.6394', '4. close': '69638.9143', '5. volume': '2947'}, '2024-06-08': {'1. open': '69327.9479', '2. high': '69545.5367', '3. low': '69134.4331', '4. close': '69305.0384', '5. volume': '3405'}, '2024-06-07': {'1. open': '70777.0830', '2. high': '71963.2322', '3. low': '68340.9771', '4. close': '69330.6819', '5. volume': '20405'}, '2024-06-06': {'1. open': '71119.5877', '2. high': '71646.0717', '3. low': '70099.6328', '4. close': '70775.8622', '5. volume': '11287'}, '2024-06-05': {'1. open': '70546.7904', '2. high': '71787.9088', '3. low': '70253.1417', '4. close': '71118.9517', '5. volume': '14281'}, '2024-06-04': {'1. open': '68794.7811', '2. high': '71101.5573', '3. low': '68548.3679', '4. close': '70547.8996', '5. volume': '22694'}, '2024-06-03': {'1. open': '67739.0324', '2. high': '70286.0356', '3. low': '67577.7899', '4. close': '68797.4860', '5. volume': '16664'}, '2024-06-02': {'1. open': '67721.4875', '2. high': '68409.6321', '3. low': '67268.1390', '4. close': '67741.2921', '5. volume': '3979'}}}\n"
     ]
    },
    {
     "ename": "ValueError",
     "evalue": "non convertible value 2024-09-09 with the unit 'ms', at position 0",
     "output_type": "error",
     "traceback": [
      "\u001b[1;31m---------------------------------------------------------------------------\u001b[0m",
      "\u001b[1;31mValueError\u001b[0m                                Traceback (most recent call last)",
      "File \u001b[1;32mtslib.pyx:305\u001b[0m, in \u001b[0;36mpandas._libs.tslib.array_with_unit_to_datetime\u001b[1;34m()\u001b[0m\n",
      "\u001b[1;31mValueError\u001b[0m: could not convert string to float: '2024-09-09'",
      "\nDuring handling of the above exception, another exception occurred:\n",
      "\u001b[1;31mValueError\u001b[0m                                Traceback (most recent call last)",
      "Cell \u001b[1;32mIn[5], line 31\u001b[0m\n\u001b[0;32m     28\u001b[0m df\u001b[38;5;241m.\u001b[39mrename(columns\u001b[38;5;241m=\u001b[39m{\u001b[38;5;124m'\u001b[39m\u001b[38;5;124mindex\u001b[39m\u001b[38;5;124m'\u001b[39m: \u001b[38;5;124m'\u001b[39m\u001b[38;5;124mDate\u001b[39m\u001b[38;5;124m'\u001b[39m}, inplace\u001b[38;5;241m=\u001b[39m\u001b[38;5;28;01mTrue\u001b[39;00m)\n\u001b[0;32m     30\u001b[0m \u001b[38;5;66;03m# Convert 'Date' to datetime format\u001b[39;00m\n\u001b[1;32m---> 31\u001b[0m df[\u001b[38;5;124m'\u001b[39m\u001b[38;5;124mDate\u001b[39m\u001b[38;5;124m'\u001b[39m] \u001b[38;5;241m=\u001b[39m \u001b[43mpd\u001b[49m\u001b[38;5;241;43m.\u001b[39;49m\u001b[43mto_datetime\u001b[49m\u001b[43m(\u001b[49m\u001b[43mdf\u001b[49m\u001b[43m[\u001b[49m\u001b[38;5;124;43m'\u001b[39;49m\u001b[38;5;124;43mDate\u001b[39;49m\u001b[38;5;124;43m'\u001b[39;49m\u001b[43m]\u001b[49m\u001b[43m,\u001b[49m\u001b[43m \u001b[49m\u001b[43munit\u001b[49m\u001b[38;5;241;43m=\u001b[39;49m\u001b[38;5;124;43m'\u001b[39;49m\u001b[38;5;124;43mms\u001b[39;49m\u001b[38;5;124;43m'\u001b[39;49m\u001b[43m)\u001b[49m\n\u001b[0;32m     33\u001b[0m \u001b[38;5;66;03m# Convert all numeric columns to numeric types\u001b[39;00m\n\u001b[0;32m     34\u001b[0m df \u001b[38;5;241m=\u001b[39m df\u001b[38;5;241m.\u001b[39mapply(pd\u001b[38;5;241m.\u001b[39mto_numeric, errors\u001b[38;5;241m=\u001b[39m\u001b[38;5;124m'\u001b[39m\u001b[38;5;124mignore\u001b[39m\u001b[38;5;124m'\u001b[39m)\n",
      "File \u001b[1;32m~\\anaconda3\\Lib\\site-packages\\pandas\\core\\tools\\datetimes.py:1112\u001b[0m, in \u001b[0;36mto_datetime\u001b[1;34m(arg, errors, dayfirst, yearfirst, utc, format, exact, unit, infer_datetime_format, origin, cache)\u001b[0m\n\u001b[0;32m   1110\u001b[0m         result \u001b[38;5;241m=\u001b[39m arg\u001b[38;5;241m.\u001b[39mmap(cache_array)\n\u001b[0;32m   1111\u001b[0m     \u001b[38;5;28;01melse\u001b[39;00m:\n\u001b[1;32m-> 1112\u001b[0m         values \u001b[38;5;241m=\u001b[39m \u001b[43mconvert_listlike\u001b[49m\u001b[43m(\u001b[49m\u001b[43marg\u001b[49m\u001b[38;5;241;43m.\u001b[39;49m\u001b[43m_values\u001b[49m\u001b[43m,\u001b[49m\u001b[43m \u001b[49m\u001b[38;5;28;43mformat\u001b[39;49m\u001b[43m)\u001b[49m\n\u001b[0;32m   1113\u001b[0m         result \u001b[38;5;241m=\u001b[39m arg\u001b[38;5;241m.\u001b[39m_constructor(values, index\u001b[38;5;241m=\u001b[39marg\u001b[38;5;241m.\u001b[39mindex, name\u001b[38;5;241m=\u001b[39marg\u001b[38;5;241m.\u001b[39mname)\n\u001b[0;32m   1114\u001b[0m \u001b[38;5;28;01melif\u001b[39;00m \u001b[38;5;28misinstance\u001b[39m(arg, (ABCDataFrame, abc\u001b[38;5;241m.\u001b[39mMutableMapping)):\n",
      "File \u001b[1;32m~\\anaconda3\\Lib\\site-packages\\pandas\\core\\tools\\datetimes.py:462\u001b[0m, in \u001b[0;36m_convert_listlike_datetimes\u001b[1;34m(arg, format, name, utc, unit, errors, dayfirst, yearfirst, exact)\u001b[0m\n\u001b[0;32m    460\u001b[0m     \u001b[38;5;28;01mif\u001b[39;00m \u001b[38;5;28mformat\u001b[39m \u001b[38;5;129;01mis\u001b[39;00m \u001b[38;5;129;01mnot\u001b[39;00m \u001b[38;5;28;01mNone\u001b[39;00m:\n\u001b[0;32m    461\u001b[0m         \u001b[38;5;28;01mraise\u001b[39;00m \u001b[38;5;167;01mValueError\u001b[39;00m(\u001b[38;5;124m\"\u001b[39m\u001b[38;5;124mcannot specify both format and unit\u001b[39m\u001b[38;5;124m\"\u001b[39m)\n\u001b[1;32m--> 462\u001b[0m     \u001b[38;5;28;01mreturn\u001b[39;00m \u001b[43m_to_datetime_with_unit\u001b[49m\u001b[43m(\u001b[49m\u001b[43marg\u001b[49m\u001b[43m,\u001b[49m\u001b[43m \u001b[49m\u001b[43munit\u001b[49m\u001b[43m,\u001b[49m\u001b[43m \u001b[49m\u001b[43mname\u001b[49m\u001b[43m,\u001b[49m\u001b[43m \u001b[49m\u001b[43mutc\u001b[49m\u001b[43m,\u001b[49m\u001b[43m \u001b[49m\u001b[43merrors\u001b[49m\u001b[43m)\u001b[49m\n\u001b[0;32m    463\u001b[0m \u001b[38;5;28;01melif\u001b[39;00m \u001b[38;5;28mgetattr\u001b[39m(arg, \u001b[38;5;124m\"\u001b[39m\u001b[38;5;124mndim\u001b[39m\u001b[38;5;124m\"\u001b[39m, \u001b[38;5;241m1\u001b[39m) \u001b[38;5;241m>\u001b[39m \u001b[38;5;241m1\u001b[39m:\n\u001b[0;32m    464\u001b[0m     \u001b[38;5;28;01mraise\u001b[39;00m \u001b[38;5;167;01mTypeError\u001b[39;00m(\n\u001b[0;32m    465\u001b[0m         \u001b[38;5;124m\"\u001b[39m\u001b[38;5;124marg must be a string, datetime, list, tuple, 1-d array, or Series\u001b[39m\u001b[38;5;124m\"\u001b[39m\n\u001b[0;32m    466\u001b[0m     )\n",
      "File \u001b[1;32m~\\anaconda3\\Lib\\site-packages\\pandas\\core\\tools\\datetimes.py:574\u001b[0m, in \u001b[0;36m_to_datetime_with_unit\u001b[1;34m(arg, unit, name, utc, errors)\u001b[0m\n\u001b[0;32m    572\u001b[0m     \u001b[38;5;28;01melse\u001b[39;00m:\n\u001b[0;32m    573\u001b[0m         arg \u001b[38;5;241m=\u001b[39m arg\u001b[38;5;241m.\u001b[39mastype(\u001b[38;5;28mobject\u001b[39m, copy\u001b[38;5;241m=\u001b[39m\u001b[38;5;28;01mFalse\u001b[39;00m)\n\u001b[1;32m--> 574\u001b[0m         arr, tz_parsed \u001b[38;5;241m=\u001b[39m \u001b[43mtslib\u001b[49m\u001b[38;5;241;43m.\u001b[39;49m\u001b[43marray_with_unit_to_datetime\u001b[49m\u001b[43m(\u001b[49m\u001b[43marg\u001b[49m\u001b[43m,\u001b[49m\u001b[43m \u001b[49m\u001b[43munit\u001b[49m\u001b[43m,\u001b[49m\u001b[43m \u001b[49m\u001b[43merrors\u001b[49m\u001b[38;5;241;43m=\u001b[39;49m\u001b[43merrors\u001b[49m\u001b[43m)\u001b[49m\n\u001b[0;32m    576\u001b[0m \u001b[38;5;28;01mif\u001b[39;00m errors \u001b[38;5;241m==\u001b[39m \u001b[38;5;124m\"\u001b[39m\u001b[38;5;124mignore\u001b[39m\u001b[38;5;124m\"\u001b[39m:\n\u001b[0;32m    577\u001b[0m     \u001b[38;5;66;03m# Index constructor _may_ infer to DatetimeIndex\u001b[39;00m\n\u001b[0;32m    578\u001b[0m     result \u001b[38;5;241m=\u001b[39m Index\u001b[38;5;241m.\u001b[39m_with_infer(arr, name\u001b[38;5;241m=\u001b[39mname)\n",
      "File \u001b[1;32mtslib.pyx:333\u001b[0m, in \u001b[0;36mpandas._libs.tslib.array_with_unit_to_datetime\u001b[1;34m()\u001b[0m\n",
      "File \u001b[1;32mtslib.pyx:307\u001b[0m, in \u001b[0;36mpandas._libs.tslib.array_with_unit_to_datetime\u001b[1;34m()\u001b[0m\n",
      "\u001b[1;31mValueError\u001b[0m: non convertible value 2024-09-09 with the unit 'ms', at position 0"
     ]
    }
   ],
   "source": [
    "# Check if the response was successful\n",
    "if response.status_code == 200:\n",
    "    # Convert the response data to JSON format\n",
    "    data = response.json()\n",
    "\n",
    "    # Print the data to see the structure (for debugging purposes)\n",
    "    print(\"Response Data:\", data)\n",
    "    \n",
    "    # Check if the 'Time Series (Daily)' key is present in the data\n",
    "    if 'Time Series (Daily)' in data:\n",
    "        # Get the daily time series data\n",
    "        time_series = data['Time Series (Daily)']\n",
    "        \n",
    "        # Convert the time series data to a DataFrame\n",
    "        df = pd.DataFrame.from_dict(time_series, orient='index')\n",
    "        \n",
    "        # Rename the columns to simpler names\n",
    "        df = df.rename(columns={\n",
    "            '1. open': 'Open',\n",
    "            '2. high': 'High',\n",
    "            '3. low': 'Low',\n",
    "            '4. close': 'Close',\n",
    "            '5. volume': 'Volume'\n",
    "        })\n",
    "        \n",
    "        # Reset the index to make 'Date' a column and rename it\n",
    "        df.reset_index(inplace=True)\n",
    "        df.rename(columns={'index': 'Date'}, inplace=True)\n",
    "\n",
    "        # Convert 'Date' to datetime format\n",
    "        df['Date'] = pd.to_datetime(df['Date'], unit='ms')\n",
    "\n",
    "        # Convert all numeric columns to numeric types\n",
    "        df = df.apply(pd.to_numeric, errors='ignore')\n",
    "\n",
    "        # Save the DataFrame to a CSV file\n",
    "        df.to_csv('bitcoin_dataset.csv', index=False)  # Save without index to avoid duplicate Date column\n",
    "        print(\"Data saved to 'bitcoin_dataset.csv'\")\n",
    "        \n",
    "        # Print the first few rows of the DataFrame\n",
    "        print(\"DataFrame Preview:\")\n",
    "        print(df.head())\n",
    "    else:\n",
    "        print(\"Error: 'Time Series (Daily)' data not found in response.\")\n",
    "else:\n",
    "    print(f\"Failed to retrieve data: {response.status_code}\")\n"
   ]
  },
  {
   "cell_type": "code",
   "execution_count": 7,
   "metadata": {},
   "outputs": [
    {
     "data": {
      "text/html": [
       "<div>\n",
       "<style scoped>\n",
       "    .dataframe tbody tr th:only-of-type {\n",
       "        vertical-align: middle;\n",
       "    }\n",
       "\n",
       "    .dataframe tbody tr th {\n",
       "        vertical-align: top;\n",
       "    }\n",
       "\n",
       "    .dataframe thead th {\n",
       "        text-align: right;\n",
       "    }\n",
       "</style>\n",
       "<table border=\"1\" class=\"dataframe\">\n",
       "  <thead>\n",
       "    <tr style=\"text-align: right;\">\n",
       "      <th></th>\n",
       "      <th>Date</th>\n",
       "      <th>Open</th>\n",
       "      <th>High</th>\n",
       "      <th>Low</th>\n",
       "      <th>Close</th>\n",
       "      <th>Volume</th>\n",
       "    </tr>\n",
       "  </thead>\n",
       "  <tbody>\n",
       "    <tr>\n",
       "      <th>0</th>\n",
       "      <td>2024-09-09</td>\n",
       "      <td>54885.6735</td>\n",
       "      <td>55585.8705</td>\n",
       "      <td>54577.1040</td>\n",
       "      <td>55277.4629</td>\n",
       "      <td>3922</td>\n",
       "    </tr>\n",
       "    <tr>\n",
       "      <th>1</th>\n",
       "      <td>2024-09-08</td>\n",
       "      <td>54171.2551</td>\n",
       "      <td>55328.6738</td>\n",
       "      <td>53630.8434</td>\n",
       "      <td>54889.4399</td>\n",
       "      <td>6472</td>\n",
       "    </tr>\n",
       "    <tr>\n",
       "      <th>2</th>\n",
       "      <td>2024-09-07</td>\n",
       "      <td>53986.9493</td>\n",
       "      <td>54892.5449</td>\n",
       "      <td>53775.0980</td>\n",
       "      <td>54186.2042</td>\n",
       "      <td>6160</td>\n",
       "    </tr>\n",
       "    <tr>\n",
       "      <th>3</th>\n",
       "      <td>2024-09-06</td>\n",
       "      <td>56174.8742</td>\n",
       "      <td>57004.0633</td>\n",
       "      <td>52555.1342</td>\n",
       "      <td>53967.3797</td>\n",
       "      <td>26159</td>\n",
       "    </tr>\n",
       "    <tr>\n",
       "      <th>4</th>\n",
       "      <td>2024-09-05</td>\n",
       "      <td>57989.7989</td>\n",
       "      <td>58337.9216</td>\n",
       "      <td>55647.8231</td>\n",
       "      <td>56178.0057</td>\n",
       "      <td>17146</td>\n",
       "    </tr>\n",
       "  </tbody>\n",
       "</table>\n",
       "</div>"
      ],
      "text/plain": [
       "         Date        Open        High         Low       Close Volume\n",
       "0  2024-09-09  54885.6735  55585.8705  54577.1040  55277.4629   3922\n",
       "1  2024-09-08  54171.2551  55328.6738  53630.8434  54889.4399   6472\n",
       "2  2024-09-07  53986.9493  54892.5449  53775.0980  54186.2042   6160\n",
       "3  2024-09-06  56174.8742  57004.0633  52555.1342  53967.3797  26159\n",
       "4  2024-09-05  57989.7989  58337.9216  55647.8231  56178.0057  17146"
      ]
     },
     "execution_count": 7,
     "metadata": {},
     "output_type": "execute_result"
    }
   ],
   "source": [
    "# Display the first few rows of the DataFrame\n",
    "df.head()"
   ]
  },
  {
   "cell_type": "code",
   "execution_count": 8,
   "metadata": {},
   "outputs": [],
   "source": [
    "# Sort the DataFrame by the date\n",
    "df = df.sort_index()\n",
    "\n",
    "# Reset the index so that the Date is a column\n",
    "df = df.reset_index().rename(columns={'index': 'Date'})"
   ]
  },
  {
   "cell_type": "code",
   "execution_count": 10,
   "metadata": {},
   "outputs": [
    {
     "data": {
      "text/html": [
       "<div>\n",
       "<style scoped>\n",
       "    .dataframe tbody tr th:only-of-type {\n",
       "        vertical-align: middle;\n",
       "    }\n",
       "\n",
       "    .dataframe tbody tr th {\n",
       "        vertical-align: top;\n",
       "    }\n",
       "\n",
       "    .dataframe thead th {\n",
       "        text-align: right;\n",
       "    }\n",
       "</style>\n",
       "<table border=\"1\" class=\"dataframe\">\n",
       "  <thead>\n",
       "    <tr style=\"text-align: right;\">\n",
       "      <th></th>\n",
       "      <th>Date</th>\n",
       "      <th>Date</th>\n",
       "      <th>Open</th>\n",
       "      <th>High</th>\n",
       "      <th>Low</th>\n",
       "      <th>Close</th>\n",
       "      <th>Volume</th>\n",
       "    </tr>\n",
       "  </thead>\n",
       "  <tbody>\n",
       "    <tr>\n",
       "      <th>0</th>\n",
       "      <td>0</td>\n",
       "      <td>2024-09-09</td>\n",
       "      <td>54885.6735</td>\n",
       "      <td>55585.8705</td>\n",
       "      <td>54577.1040</td>\n",
       "      <td>55277.4629</td>\n",
       "      <td>3922</td>\n",
       "    </tr>\n",
       "    <tr>\n",
       "      <th>1</th>\n",
       "      <td>1</td>\n",
       "      <td>2024-09-08</td>\n",
       "      <td>54171.2551</td>\n",
       "      <td>55328.6738</td>\n",
       "      <td>53630.8434</td>\n",
       "      <td>54889.4399</td>\n",
       "      <td>6472</td>\n",
       "    </tr>\n",
       "    <tr>\n",
       "      <th>2</th>\n",
       "      <td>2</td>\n",
       "      <td>2024-09-07</td>\n",
       "      <td>53986.9493</td>\n",
       "      <td>54892.5449</td>\n",
       "      <td>53775.0980</td>\n",
       "      <td>54186.2042</td>\n",
       "      <td>6160</td>\n",
       "    </tr>\n",
       "    <tr>\n",
       "      <th>3</th>\n",
       "      <td>3</td>\n",
       "      <td>2024-09-06</td>\n",
       "      <td>56174.8742</td>\n",
       "      <td>57004.0633</td>\n",
       "      <td>52555.1342</td>\n",
       "      <td>53967.3797</td>\n",
       "      <td>26159</td>\n",
       "    </tr>\n",
       "    <tr>\n",
       "      <th>4</th>\n",
       "      <td>4</td>\n",
       "      <td>2024-09-05</td>\n",
       "      <td>57989.7989</td>\n",
       "      <td>58337.9216</td>\n",
       "      <td>55647.8231</td>\n",
       "      <td>56178.0057</td>\n",
       "      <td>17146</td>\n",
       "    </tr>\n",
       "  </tbody>\n",
       "</table>\n",
       "</div>"
      ],
      "text/plain": [
       "  Date        Date        Open        High         Low       Close Volume\n",
       "0    0  2024-09-09  54885.6735  55585.8705  54577.1040  55277.4629   3922\n",
       "1    1  2024-09-08  54171.2551  55328.6738  53630.8434  54889.4399   6472\n",
       "2    2  2024-09-07  53986.9493  54892.5449  53775.0980  54186.2042   6160\n",
       "3    3  2024-09-06  56174.8742  57004.0633  52555.1342  53967.3797  26159\n",
       "4    4  2024-09-05  57989.7989  58337.9216  55647.8231  56178.0057  17146"
      ]
     },
     "execution_count": 10,
     "metadata": {},
     "output_type": "execute_result"
    }
   ],
   "source": [
    "df.head()\n"
   ]
  },
  {
   "cell_type": "code",
   "execution_count": 13,
   "metadata": {},
   "outputs": [
    {
     "data": {
      "text/plain": [
       "(100, 7)"
      ]
     },
     "execution_count": 13,
     "metadata": {},
     "output_type": "execute_result"
    }
   ],
   "source": [
    "#dataset Contains data for 100 days and 6 columns \n",
    "#name : Date, Date, Open, High, Low, Close, Volume.\n",
    "df.shape"
   ]
  },
  {
   "cell_type": "markdown",
   "metadata": {},
   "source": [
    "#### this dataset contains 6 column\n",
    "#### we need one more that is market cap\n",
    "#### extracting market cap from CoinGecko"
   ]
  },
  {
   "cell_type": "code",
   "execution_count": 14,
   "metadata": {},
   "outputs": [
    {
     "name": "stdout",
     "output_type": "stream",
     "text": [
      "Market Cap data saved to 'market_cap_data.csv'\n"
     ]
    }
   ],
   "source": [
    "\n",
    "# Define the CoinGecko endpoint and parameters\n",
    "url = 'https://api.coingecko.com/api/v3/coins/bitcoin/market_chart'\n",
    "params = {\n",
    "    'vs_currency': 'usd',\n",
    "    'days': '100',\n",
    "    'interval': 'daily'\n",
    "}\n",
    "\n",
    "# Make the API request\n",
    "response = requests.get(url, params=params)\n",
    "\n",
    "# Check if the request was successful\n",
    "if response.status_code == 200:\n",
    "    data = response.json()\n",
    "    \n",
    "    # Check if 'market_caps' is in the response\n",
    "    if 'market_caps' in data:\n",
    "        # Extract 'market_caps' data\n",
    "        market_caps = data['market_caps']\n",
    "        \n",
    "        # Convert to DataFrame\n",
    "        market_cap_df = pd.DataFrame(market_caps, columns=['Date', 'Market Cap'])\n",
    "        \n",
    "        # Convert 'Date' to datetime\n",
    "        market_cap_df['Date'] = pd.to_datetime(market_cap_df['Date'], unit='ms')\n",
    "        \n",
    "        # Save the DataFrame to a CSV file\n",
    "        market_cap_df.to_csv('market_cap_data.csv', index=False)\n",
    "        print(\"Market Cap data saved to 'market_cap_data.csv'\")\n",
    "    else:\n",
    "        print(\"Error: 'market_caps' not found in response.\")\n",
    "else:\n",
    "    print(f\"Failed to retrieve data: {response.status_code}\")\n"
   ]
  },
  {
   "cell_type": "markdown",
   "metadata": {},
   "source": [
    "#### Merge the DataFrames"
   ]
  },
  {
   "cell_type": "code",
   "execution_count": 15,
   "metadata": {},
   "outputs": [
    {
     "name": "stdout",
     "output_type": "stream",
     "text": [
      "Merged data saved to 'bitcoin_dataset.csv'\n",
      "\n",
      "Sample of merged data:\n",
      "        Date        Open        High         Low       Close  Volume  \\\n",
      "0 2024-09-09  54885.6735  55585.8705  54577.1040  55277.4629    3922   \n",
      "1 2024-09-08  54171.2551  55328.6738  53630.8434  54889.4399    6472   \n",
      "2 2024-09-07  53986.9493  54892.5449  53775.0980  54186.2042    6160   \n",
      "3 2024-09-06  56174.8742  57004.0633  52555.1342  53967.3797   26159   \n",
      "4 2024-09-05  57989.7989  58337.9216  55647.8231  56178.0057   17146   \n",
      "\n",
      "     Market Cap  \n",
      "0  1.085390e+12  \n",
      "1  1.068955e+12  \n",
      "2  1.065462e+12  \n",
      "3  1.109213e+12  \n",
      "4  1.144983e+12  \n"
     ]
    }
   ],
   "source": [
    "\n",
    "    # Load OHLC and volume data from 'bitcoin_data.csv'\n",
    "    ohlc_df = pd.read_csv('bitcoin_dataset.csv')\n",
    "    \n",
    "    # Load Market Cap data from 'market_cap_data.csv'\n",
    "    market_cap_df = pd.read_csv('market_cap_data.csv')\n",
    "\n",
    "    # Convert 'Date' columns to datetime format to ensure matching works correctly\n",
    "    ohlc_df['Date'] = pd.to_datetime(ohlc_df['Date'])\n",
    "    market_cap_df['Date'] = pd.to_datetime(market_cap_df['Date'])\n",
    "\n",
    "    # Merge the two DataFrames on 'Date', matching rows with the same date\n",
    "    merged_df = pd.merge(ohlc_df, market_cap_df, on='Date', how='left')\n",
    "\n",
    "    # Save the merged DataFrame to a new CSV file\n",
    "    merged_df.to_csv('bitcoin_dataset.csv', index=False)\n",
    "    print(\"Merged data saved to 'bitcoin_dataset.csv'\")\n",
    "\n",
    "    #Print the first few rows of the merged DataFrame\n",
    "    print(\"\\nSample of merged data:\")\n",
    "    print(merged_df.head())\n"
   ]
  },
  {
   "cell_type": "markdown",
   "metadata": {},
   "source": [
    "## 3. Exploratory Data Analysis (EDA):"
   ]
  },
  {
   "cell_type": "markdown",
   "metadata": {},
   "source": [
    "#### 1. Import Libraries"
   ]
  },
  {
   "cell_type": "code",
   "execution_count": 16,
   "metadata": {},
   "outputs": [],
   "source": [
    "import matplotlib.pyplot as plt\n",
    "import seaborn as sns\n",
    "import re "
   ]
  },
  {
   "cell_type": "markdown",
   "metadata": {},
   "source": [
    "#### 2. Load Data"
   ]
  },
  {
   "cell_type": "code",
   "execution_count": 17,
   "metadata": {},
   "outputs": [],
   "source": [
    "# Load the data from the CSV file\n",
    "df = pd.read_csv('bitcoin_dataset.csv')"
   ]
  },
  {
   "cell_type": "code",
   "execution_count": 18,
   "metadata": {},
   "outputs": [
    {
     "name": "stdout",
     "output_type": "stream",
     "text": [
      "<class 'pandas.core.frame.DataFrame'>\n",
      "RangeIndex: 100 entries, 0 to 99\n",
      "Data columns (total 7 columns):\n",
      " #   Column      Non-Null Count  Dtype  \n",
      "---  ------      --------------  -----  \n",
      " 0   Date        100 non-null    object \n",
      " 1   Open        100 non-null    float64\n",
      " 2   High        100 non-null    float64\n",
      " 3   Low         100 non-null    float64\n",
      " 4   Close       100 non-null    float64\n",
      " 5   Volume      100 non-null    int64  \n",
      " 6   Market Cap  100 non-null    float64\n",
      "dtypes: float64(5), int64(1), object(1)\n",
      "memory usage: 5.6+ KB\n"
     ]
    }
   ],
   "source": [
    "df.info()"
   ]
  },
  {
   "cell_type": "markdown",
   "metadata": {},
   "source": [
    "### 3. Convert 'Date' column to datetime format \n"
   ]
  },
  {
   "cell_type": "code",
   "execution_count": 19,
   "metadata": {},
   "outputs": [
    {
     "name": "stdout",
     "output_type": "stream",
     "text": [
      "<class 'pandas.core.frame.DataFrame'>\n",
      "RangeIndex: 100 entries, 0 to 99\n",
      "Data columns (total 7 columns):\n",
      " #   Column      Non-Null Count  Dtype         \n",
      "---  ------      --------------  -----         \n",
      " 0   Date        100 non-null    datetime64[ns]\n",
      " 1   Open        100 non-null    float64       \n",
      " 2   High        100 non-null    float64       \n",
      " 3   Low         100 non-null    float64       \n",
      " 4   Close       100 non-null    float64       \n",
      " 5   Volume      100 non-null    int64         \n",
      " 6   Market Cap  100 non-null    float64       \n",
      "dtypes: datetime64[ns](1), float64(5), int64(1)\n",
      "memory usage: 5.6 KB\n"
     ]
    }
   ],
   "source": [
    "df['Date'] = pd.to_datetime(df['Date'])\n",
    "\n",
    "df.info()"
   ]
  },
  {
   "cell_type": "code",
   "execution_count": 20,
   "metadata": {},
   "outputs": [
    {
     "data": {
      "text/html": [
       "<div>\n",
       "<style scoped>\n",
       "    .dataframe tbody tr th:only-of-type {\n",
       "        vertical-align: middle;\n",
       "    }\n",
       "\n",
       "    .dataframe tbody tr th {\n",
       "        vertical-align: top;\n",
       "    }\n",
       "\n",
       "    .dataframe thead th {\n",
       "        text-align: right;\n",
       "    }\n",
       "</style>\n",
       "<table border=\"1\" class=\"dataframe\">\n",
       "  <thead>\n",
       "    <tr style=\"text-align: right;\">\n",
       "      <th></th>\n",
       "      <th>Date</th>\n",
       "      <th>Open</th>\n",
       "      <th>High</th>\n",
       "      <th>Low</th>\n",
       "      <th>Close</th>\n",
       "      <th>Volume</th>\n",
       "      <th>Market Cap</th>\n",
       "    </tr>\n",
       "  </thead>\n",
       "  <tbody>\n",
       "    <tr>\n",
       "      <th>0</th>\n",
       "      <td>2024-09-09</td>\n",
       "      <td>54885.6735</td>\n",
       "      <td>55585.8705</td>\n",
       "      <td>54577.1040</td>\n",
       "      <td>55277.4629</td>\n",
       "      <td>3922</td>\n",
       "      <td>1.085390e+12</td>\n",
       "    </tr>\n",
       "    <tr>\n",
       "      <th>1</th>\n",
       "      <td>2024-09-08</td>\n",
       "      <td>54171.2551</td>\n",
       "      <td>55328.6738</td>\n",
       "      <td>53630.8434</td>\n",
       "      <td>54889.4399</td>\n",
       "      <td>6472</td>\n",
       "      <td>1.068955e+12</td>\n",
       "    </tr>\n",
       "    <tr>\n",
       "      <th>2</th>\n",
       "      <td>2024-09-07</td>\n",
       "      <td>53986.9493</td>\n",
       "      <td>54892.5449</td>\n",
       "      <td>53775.0980</td>\n",
       "      <td>54186.2042</td>\n",
       "      <td>6160</td>\n",
       "      <td>1.065462e+12</td>\n",
       "    </tr>\n",
       "    <tr>\n",
       "      <th>3</th>\n",
       "      <td>2024-09-06</td>\n",
       "      <td>56174.8742</td>\n",
       "      <td>57004.0633</td>\n",
       "      <td>52555.1342</td>\n",
       "      <td>53967.3797</td>\n",
       "      <td>26159</td>\n",
       "      <td>1.109213e+12</td>\n",
       "    </tr>\n",
       "    <tr>\n",
       "      <th>4</th>\n",
       "      <td>2024-09-05</td>\n",
       "      <td>57989.7989</td>\n",
       "      <td>58337.9216</td>\n",
       "      <td>55647.8231</td>\n",
       "      <td>56178.0057</td>\n",
       "      <td>17146</td>\n",
       "      <td>1.144983e+12</td>\n",
       "    </tr>\n",
       "  </tbody>\n",
       "</table>\n",
       "</div>"
      ],
      "text/plain": [
       "        Date        Open        High         Low       Close  Volume  \\\n",
       "0 2024-09-09  54885.6735  55585.8705  54577.1040  55277.4629    3922   \n",
       "1 2024-09-08  54171.2551  55328.6738  53630.8434  54889.4399    6472   \n",
       "2 2024-09-07  53986.9493  54892.5449  53775.0980  54186.2042    6160   \n",
       "3 2024-09-06  56174.8742  57004.0633  52555.1342  53967.3797   26159   \n",
       "4 2024-09-05  57989.7989  58337.9216  55647.8231  56178.0057   17146   \n",
       "\n",
       "     Market Cap  \n",
       "0  1.085390e+12  \n",
       "1  1.068955e+12  \n",
       "2  1.065462e+12  \n",
       "3  1.109213e+12  \n",
       "4  1.144983e+12  "
      ]
     },
     "execution_count": 20,
     "metadata": {},
     "output_type": "execute_result"
    }
   ],
   "source": [
    "#DataSet head\n",
    "df.head()"
   ]
  },
  {
   "cell_type": "code",
   "execution_count": 21,
   "metadata": {},
   "outputs": [],
   "source": [
    "df['Date'] = pd.to_datetime(df['Date'])\n"
   ]
  },
  {
   "cell_type": "code",
   "execution_count": 22,
   "metadata": {},
   "outputs": [
    {
     "name": "stdout",
     "output_type": "stream",
     "text": [
      "0   2024-09-09\n",
      "1   2024-09-08\n",
      "2   2024-09-07\n",
      "3   2024-09-06\n",
      "4   2024-09-05\n",
      "Name: Date, dtype: datetime64[ns]\n",
      "Date          datetime64[ns]\n",
      "Open                 float64\n",
      "High                 float64\n",
      "Low                  float64\n",
      "Close                float64\n",
      "Volume                 int64\n",
      "Market Cap           float64\n",
      "dtype: object\n"
     ]
    }
   ],
   "source": [
    "print(df['Date'].head())\n",
    "print(df.dtypes)  # To verify that the Date column is now of type datetime.date\n"
   ]
  },
  {
   "cell_type": "markdown",
   "metadata": {},
   "source": [
    "#### 4. Descriptive Statistics"
   ]
  },
  {
   "cell_type": "code",
   "execution_count": 23,
   "metadata": {},
   "outputs": [
    {
     "data": {
      "text/html": [
       "<div>\n",
       "<style scoped>\n",
       "    .dataframe tbody tr th:only-of-type {\n",
       "        vertical-align: middle;\n",
       "    }\n",
       "\n",
       "    .dataframe tbody tr th {\n",
       "        vertical-align: top;\n",
       "    }\n",
       "\n",
       "    .dataframe thead th {\n",
       "        text-align: right;\n",
       "    }\n",
       "</style>\n",
       "<table border=\"1\" class=\"dataframe\">\n",
       "  <thead>\n",
       "    <tr style=\"text-align: right;\">\n",
       "      <th></th>\n",
       "      <th>Date</th>\n",
       "      <th>Open</th>\n",
       "      <th>High</th>\n",
       "      <th>Low</th>\n",
       "      <th>Close</th>\n",
       "      <th>Volume</th>\n",
       "      <th>Market Cap</th>\n",
       "    </tr>\n",
       "  </thead>\n",
       "  <tbody>\n",
       "    <tr>\n",
       "      <th>count</th>\n",
       "      <td>100</td>\n",
       "      <td>100.000000</td>\n",
       "      <td>100.000000</td>\n",
       "      <td>100.000000</td>\n",
       "      <td>100.000000</td>\n",
       "      <td>100.000000</td>\n",
       "      <td>1.000000e+02</td>\n",
       "    </tr>\n",
       "    <tr>\n",
       "      <th>mean</th>\n",
       "      <td>2024-07-21 12:00:00</td>\n",
       "      <td>62328.267646</td>\n",
       "      <td>63488.310220</td>\n",
       "      <td>61004.373241</td>\n",
       "      <td>62203.273210</td>\n",
       "      <td>14301.420000</td>\n",
       "      <td>1.229632e+12</td>\n",
       "    </tr>\n",
       "    <tr>\n",
       "      <th>min</th>\n",
       "      <td>2024-06-02 00:00:00</td>\n",
       "      <td>53986.949300</td>\n",
       "      <td>54892.544900</td>\n",
       "      <td>49119.829700</td>\n",
       "      <td>53967.379700</td>\n",
       "      <td>1504.000000</td>\n",
       "      <td>1.064889e+12</td>\n",
       "    </tr>\n",
       "    <tr>\n",
       "      <th>25%</th>\n",
       "      <td>2024-06-26 18:00:00</td>\n",
       "      <td>58971.345675</td>\n",
       "      <td>59883.189150</td>\n",
       "      <td>57601.455450</td>\n",
       "      <td>58850.029000</td>\n",
       "      <td>7319.250000</td>\n",
       "      <td>1.163888e+12</td>\n",
       "    </tr>\n",
       "    <tr>\n",
       "      <th>50%</th>\n",
       "      <td>2024-07-21 12:00:00</td>\n",
       "      <td>61666.446300</td>\n",
       "      <td>62851.899250</td>\n",
       "      <td>60344.452000</td>\n",
       "      <td>61529.937850</td>\n",
       "      <td>14303.500000</td>\n",
       "      <td>1.215933e+12</td>\n",
       "    </tr>\n",
       "    <tr>\n",
       "      <th>75%</th>\n",
       "      <td>2024-08-15 06:00:00</td>\n",
       "      <td>66046.642600</td>\n",
       "      <td>66945.219550</td>\n",
       "      <td>65015.989650</td>\n",
       "      <td>65958.348925</td>\n",
       "      <td>18347.250000</td>\n",
       "      <td>1.302555e+12</td>\n",
       "    </tr>\n",
       "    <tr>\n",
       "      <th>max</th>\n",
       "      <td>2024-09-09 00:00:00</td>\n",
       "      <td>71119.587700</td>\n",
       "      <td>71963.232200</td>\n",
       "      <td>70253.141700</td>\n",
       "      <td>71118.951700</td>\n",
       "      <td>81896.000000</td>\n",
       "      <td>1.400298e+12</td>\n",
       "    </tr>\n",
       "    <tr>\n",
       "      <th>std</th>\n",
       "      <td>NaN</td>\n",
       "      <td>4417.006129</td>\n",
       "      <td>4234.662782</td>\n",
       "      <td>4629.375406</td>\n",
       "      <td>4438.826459</td>\n",
       "      <td>9959.793696</td>\n",
       "      <td>8.658242e+10</td>\n",
       "    </tr>\n",
       "  </tbody>\n",
       "</table>\n",
       "</div>"
      ],
      "text/plain": [
       "                      Date          Open          High           Low  \\\n",
       "count                  100    100.000000    100.000000    100.000000   \n",
       "mean   2024-07-21 12:00:00  62328.267646  63488.310220  61004.373241   \n",
       "min    2024-06-02 00:00:00  53986.949300  54892.544900  49119.829700   \n",
       "25%    2024-06-26 18:00:00  58971.345675  59883.189150  57601.455450   \n",
       "50%    2024-07-21 12:00:00  61666.446300  62851.899250  60344.452000   \n",
       "75%    2024-08-15 06:00:00  66046.642600  66945.219550  65015.989650   \n",
       "max    2024-09-09 00:00:00  71119.587700  71963.232200  70253.141700   \n",
       "std                    NaN   4417.006129   4234.662782   4629.375406   \n",
       "\n",
       "              Close        Volume    Market Cap  \n",
       "count    100.000000    100.000000  1.000000e+02  \n",
       "mean   62203.273210  14301.420000  1.229632e+12  \n",
       "min    53967.379700   1504.000000  1.064889e+12  \n",
       "25%    58850.029000   7319.250000  1.163888e+12  \n",
       "50%    61529.937850  14303.500000  1.215933e+12  \n",
       "75%    65958.348925  18347.250000  1.302555e+12  \n",
       "max    71118.951700  81896.000000  1.400298e+12  \n",
       "std     4438.826459   9959.793696  8.658242e+10  "
      ]
     },
     "execution_count": 23,
     "metadata": {},
     "output_type": "execute_result"
    }
   ],
   "source": [
    "# Display descriptive statistics\n",
    "df.describe()"
   ]
  },
  {
   "cell_type": "markdown",
   "metadata": {},
   "source": [
    "#### 5.Time Series Plot"
   ]
  },
  {
   "cell_type": "code",
   "execution_count": 24,
   "metadata": {},
   "outputs": [
    {
     "data": {
      "image/png": "[encoded data removed]",
      "text/plain": [
       "<Figure size 1200x600 with 1 Axes>"
      ]
     },
     "metadata": {},
     "output_type": "display_data"
    }
   ],
   "source": [
    "# Plot the time series of the Close price\n",
    "plt.figure(figsize=(12, 6))\n",
    "plt.plot(df['Date'], df['Close'], label='Close Price')\n",
    "plt.title('Bitcoin Close Price Over Time')\n",
    "plt.xlabel('Date')\n",
    "plt.ylabel('Close Price (USD)')\n",
    "plt.legend()\n",
    "plt.grid(True)\n",
    "plt.show()\n"
   ]
  },
  {
   "cell_type": "markdown",
   "metadata": {},
   "source": [
    "#### 6. Distribution of Volume"
   ]
  },
  {
   "cell_type": "code",
   "execution_count": 25,
   "metadata": {},
   "outputs": [
    {
     "name": "stderr",
     "output_type": "stream",
     "text": [
      "C:\\Users\\acer\\anaconda3\\Lib\\site-packages\\seaborn\\_oldcore.py:1119: FutureWarning: use_inf_as_na option is deprecated and will be removed in a future version. Convert inf values to NaN before operating instead.\n",
      "  with pd.option_context('mode.use_inf_as_na', True):\n"
     ]
    },
    {
     "data": {
      "image/png": "[encoded data removed]",
      "text/plain": [
       "<Figure size 1200x600 with 1 Axes>"
      ]
     },
     "metadata": {},
     "output_type": "display_data"
    }
   ],
   "source": [
    "# Plot the distribution of the Volume\n",
    "plt.figure(figsize=(12, 6))\n",
    "sns.histplot(df['Volume'], bins=50, kde=True)\n",
    "plt.title('Distribution of Bitcoin Trading Volume')\n",
    "plt.xlabel('Volume')\n",
    "plt.ylabel('Frequency')\n",
    "plt.grid(True)\n",
    "plt.show()\n"
   ]
  },
  {
   "cell_type": "code",
   "execution_count": 26,
   "metadata": {},
   "outputs": [],
   "source": [
    "#### 7. Pair Plot"
   ]
  },
  {
   "cell_type": "code",
   "execution_count": 27,
   "metadata": {},
   "outputs": [
    {
     "name": "stderr",
     "output_type": "stream",
     "text": [
      "C:\\Users\\acer\\anaconda3\\Lib\\site-packages\\seaborn\\_oldcore.py:1119: FutureWarning: use_inf_as_na option is deprecated and will be removed in a future version. Convert inf values to NaN before operating instead.\n",
      "  with pd.option_context('mode.use_inf_as_na', True):\n",
      "C:\\Users\\acer\\anaconda3\\Lib\\site-packages\\seaborn\\_oldcore.py:1119: FutureWarning: use_inf_as_na option is deprecated and will be removed in a future version. Convert inf values to NaN before operating instead.\n",
      "  with pd.option_context('mode.use_inf_as_na', True):\n",
      "C:\\Users\\acer\\anaconda3\\Lib\\site-packages\\seaborn\\_oldcore.py:1119: FutureWarning: use_inf_as_na option is deprecated and will be removed in a future version. Convert inf values to NaN before operating instead.\n",
      "  with pd.option_context('mode.use_inf_as_na', True):\n",
      "C:\\Users\\acer\\anaconda3\\Lib\\site-packages\\seaborn\\_oldcore.py:1119: FutureWarning: use_inf_as_na option is deprecated and will be removed in a future version. Convert inf values to NaN before operating instead.\n",
      "  with pd.option_context('mode.use_inf_as_na', True):\n"
     ]
    },
    {
     "data": {
      "image/png": "[encoded data removed]",
      "text/plain": [
       "<Figure size 1000x1000 with 20 Axes>"
      ]
     },
     "metadata": {},
     "output_type": "display_data"
    }
   ],
   "source": [
    "# Select the relevant columns\n",
    "subset_df = df[['Open', 'Close', 'High', 'Low']]\n",
    "\n",
    "# Plot the pair plot\n",
    "sns.pairplot(subset_df)\n",
    "plt.title('Pair Plot of Bitcoin Prices')\n",
    "plt.show()\n"
   ]
  },
  {
   "cell_type": "markdown",
   "metadata": {},
   "source": [
    "#### 8. Correlation Matrix"
   ]
  },
  {
   "cell_type": "code",
   "execution_count": 28,
   "metadata": {},
   "outputs": [
    {
     "data": {
      "text/html": [
       "<div>\n",
       "<style scoped>\n",
       "    .dataframe tbody tr th:only-of-type {\n",
       "        vertical-align: middle;\n",
       "    }\n",
       "\n",
       "    .dataframe tbody tr th {\n",
       "        vertical-align: top;\n",
       "    }\n",
       "\n",
       "    .dataframe thead th {\n",
       "        text-align: right;\n",
       "    }\n",
       "</style>\n",
       "<table border=\"1\" class=\"dataframe\">\n",
       "  <thead>\n",
       "    <tr style=\"text-align: right;\">\n",
       "      <th></th>\n",
       "      <th>Open</th>\n",
       "      <th>High</th>\n",
       "      <th>Low</th>\n",
       "      <th>Close</th>\n",
       "      <th>Volume</th>\n",
       "    </tr>\n",
       "  </thead>\n",
       "  <tbody>\n",
       "    <tr>\n",
       "      <th>Open</th>\n",
       "      <td>1.000000</td>\n",
       "      <td>0.967867</td>\n",
       "      <td>0.956684</td>\n",
       "      <td>0.933674</td>\n",
       "      <td>-0.140239</td>\n",
       "    </tr>\n",
       "    <tr>\n",
       "      <th>High</th>\n",
       "      <td>0.967867</td>\n",
       "      <td>1.000000</td>\n",
       "      <td>0.957168</td>\n",
       "      <td>0.975004</td>\n",
       "      <td>-0.107781</td>\n",
       "    </tr>\n",
       "    <tr>\n",
       "      <th>Low</th>\n",
       "      <td>0.956684</td>\n",
       "      <td>0.957168</td>\n",
       "      <td>1.000000</td>\n",
       "      <td>0.970596</td>\n",
       "      <td>-0.338306</td>\n",
       "    </tr>\n",
       "    <tr>\n",
       "      <th>Close</th>\n",
       "      <td>0.933674</td>\n",
       "      <td>0.975004</td>\n",
       "      <td>0.970596</td>\n",
       "      <td>1.000000</td>\n",
       "      <td>-0.211811</td>\n",
       "    </tr>\n",
       "    <tr>\n",
       "      <th>Volume</th>\n",
       "      <td>-0.140239</td>\n",
       "      <td>-0.107781</td>\n",
       "      <td>-0.338306</td>\n",
       "      <td>-0.211811</td>\n",
       "      <td>1.000000</td>\n",
       "    </tr>\n",
       "  </tbody>\n",
       "</table>\n",
       "</div>"
      ],
      "text/plain": [
       "            Open      High       Low     Close    Volume\n",
       "Open    1.000000  0.967867  0.956684  0.933674 -0.140239\n",
       "High    0.967867  1.000000  0.957168  0.975004 -0.107781\n",
       "Low     0.956684  0.957168  1.000000  0.970596 -0.338306\n",
       "Close   0.933674  0.975004  0.970596  1.000000 -0.211811\n",
       "Volume -0.140239 -0.107781 -0.338306 -0.211811  1.000000"
      ]
     },
     "execution_count": 28,
     "metadata": {},
     "output_type": "execute_result"
    }
   ],
   "source": [
    " # Calculate the correlation matrix\n",
    "correlation_matrix = df[['Open', 'High', 'Low', 'Close', 'Volume']].corr()\n",
    "\n",
    "# Display the correlation matrix\n",
    "correlation_matrix\n"
   ]
  },
  {
   "cell_type": "markdown",
   "metadata": {},
   "source": [
    "## 4. Data Filtering for Bitcoin Data"
   ]
  },
  {
   "cell_type": "markdown",
   "metadata": {},
   "source": [
    "####  Import Libraries"
   ]
  },
  {
   "cell_type": "code",
   "execution_count": 29,
   "metadata": {},
   "outputs": [],
   "source": [
    "import numpy as np\n",
    "import seaborn as sns"
   ]
  },
  {
   "cell_type": "code",
   "execution_count": 30,
   "metadata": {},
   "outputs": [
    {
     "data": {
      "text/html": [
       "<div>\n",
       "<style scoped>\n",
       "    .dataframe tbody tr th:only-of-type {\n",
       "        vertical-align: middle;\n",
       "    }\n",
       "\n",
       "    .dataframe tbody tr th {\n",
       "        vertical-align: top;\n",
       "    }\n",
       "\n",
       "    .dataframe thead th {\n",
       "        text-align: right;\n",
       "    }\n",
       "</style>\n",
       "<table border=\"1\" class=\"dataframe\">\n",
       "  <thead>\n",
       "    <tr style=\"text-align: right;\">\n",
       "      <th></th>\n",
       "      <th>Date</th>\n",
       "      <th>Open</th>\n",
       "      <th>High</th>\n",
       "      <th>Low</th>\n",
       "      <th>Close</th>\n",
       "      <th>Volume</th>\n",
       "      <th>Market Cap</th>\n",
       "    </tr>\n",
       "  </thead>\n",
       "  <tbody>\n",
       "    <tr>\n",
       "      <th>0</th>\n",
       "      <td>2024-09-09</td>\n",
       "      <td>54885.6735</td>\n",
       "      <td>55585.8705</td>\n",
       "      <td>54577.1040</td>\n",
       "      <td>55277.4629</td>\n",
       "      <td>3922</td>\n",
       "      <td>1.085390e+12</td>\n",
       "    </tr>\n",
       "    <tr>\n",
       "      <th>1</th>\n",
       "      <td>2024-09-08</td>\n",
       "      <td>54171.2551</td>\n",
       "      <td>55328.6738</td>\n",
       "      <td>53630.8434</td>\n",
       "      <td>54889.4399</td>\n",
       "      <td>6472</td>\n",
       "      <td>1.068955e+12</td>\n",
       "    </tr>\n",
       "    <tr>\n",
       "      <th>2</th>\n",
       "      <td>2024-09-07</td>\n",
       "      <td>53986.9493</td>\n",
       "      <td>54892.5449</td>\n",
       "      <td>53775.0980</td>\n",
       "      <td>54186.2042</td>\n",
       "      <td>6160</td>\n",
       "      <td>1.065462e+12</td>\n",
       "    </tr>\n",
       "    <tr>\n",
       "      <th>3</th>\n",
       "      <td>2024-09-06</td>\n",
       "      <td>56174.8742</td>\n",
       "      <td>57004.0633</td>\n",
       "      <td>52555.1342</td>\n",
       "      <td>53967.3797</td>\n",
       "      <td>26159</td>\n",
       "      <td>1.109213e+12</td>\n",
       "    </tr>\n",
       "    <tr>\n",
       "      <th>4</th>\n",
       "      <td>2024-09-05</td>\n",
       "      <td>57989.7989</td>\n",
       "      <td>58337.9216</td>\n",
       "      <td>55647.8231</td>\n",
       "      <td>56178.0057</td>\n",
       "      <td>17146</td>\n",
       "      <td>1.144983e+12</td>\n",
       "    </tr>\n",
       "    <tr>\n",
       "      <th>...</th>\n",
       "      <td>...</td>\n",
       "      <td>...</td>\n",
       "      <td>...</td>\n",
       "      <td>...</td>\n",
       "      <td>...</td>\n",
       "      <td>...</td>\n",
       "      <td>...</td>\n",
       "    </tr>\n",
       "    <tr>\n",
       "      <th>95</th>\n",
       "      <td>2024-06-06</td>\n",
       "      <td>71119.5877</td>\n",
       "      <td>71646.0717</td>\n",
       "      <td>70099.6328</td>\n",
       "      <td>70775.8622</td>\n",
       "      <td>11287</td>\n",
       "      <td>1.400298e+12</td>\n",
       "    </tr>\n",
       "    <tr>\n",
       "      <th>96</th>\n",
       "      <td>2024-06-05</td>\n",
       "      <td>70546.7904</td>\n",
       "      <td>71787.9088</td>\n",
       "      <td>70253.1417</td>\n",
       "      <td>71118.9517</td>\n",
       "      <td>14281</td>\n",
       "      <td>1.390853e+12</td>\n",
       "    </tr>\n",
       "    <tr>\n",
       "      <th>97</th>\n",
       "      <td>2024-06-04</td>\n",
       "      <td>68794.7811</td>\n",
       "      <td>71101.5573</td>\n",
       "      <td>68548.3679</td>\n",
       "      <td>70547.8996</td>\n",
       "      <td>22694</td>\n",
       "      <td>1.355485e+12</td>\n",
       "    </tr>\n",
       "    <tr>\n",
       "      <th>98</th>\n",
       "      <td>2024-06-03</td>\n",
       "      <td>67739.0324</td>\n",
       "      <td>70286.0356</td>\n",
       "      <td>67577.7899</td>\n",
       "      <td>68797.4860</td>\n",
       "      <td>16664</td>\n",
       "      <td>1.335931e+12</td>\n",
       "    </tr>\n",
       "    <tr>\n",
       "      <th>99</th>\n",
       "      <td>2024-06-02</td>\n",
       "      <td>67721.4875</td>\n",
       "      <td>68409.6321</td>\n",
       "      <td>67268.1390</td>\n",
       "      <td>67741.2921</td>\n",
       "      <td>3979</td>\n",
       "      <td>1.333650e+12</td>\n",
       "    </tr>\n",
       "  </tbody>\n",
       "</table>\n",
       "<p>100 rows × 7 columns</p>\n",
       "</div>"
      ],
      "text/plain": [
       "          Date        Open        High         Low       Close  Volume  \\\n",
       "0   2024-09-09  54885.6735  55585.8705  54577.1040  55277.4629    3922   \n",
       "1   2024-09-08  54171.2551  55328.6738  53630.8434  54889.4399    6472   \n",
       "2   2024-09-07  53986.9493  54892.5449  53775.0980  54186.2042    6160   \n",
       "3   2024-09-06  56174.8742  57004.0633  52555.1342  53967.3797   26159   \n",
       "4   2024-09-05  57989.7989  58337.9216  55647.8231  56178.0057   17146   \n",
       "..         ...         ...         ...         ...         ...     ...   \n",
       "95  2024-06-06  71119.5877  71646.0717  70099.6328  70775.8622   11287   \n",
       "96  2024-06-05  70546.7904  71787.9088  70253.1417  71118.9517   14281   \n",
       "97  2024-06-04  68794.7811  71101.5573  68548.3679  70547.8996   22694   \n",
       "98  2024-06-03  67739.0324  70286.0356  67577.7899  68797.4860   16664   \n",
       "99  2024-06-02  67721.4875  68409.6321  67268.1390  67741.2921    3979   \n",
       "\n",
       "      Market Cap  \n",
       "0   1.085390e+12  \n",
       "1   1.068955e+12  \n",
       "2   1.065462e+12  \n",
       "3   1.109213e+12  \n",
       "4   1.144983e+12  \n",
       "..           ...  \n",
       "95  1.400298e+12  \n",
       "96  1.390853e+12  \n",
       "97  1.355485e+12  \n",
       "98  1.335931e+12  \n",
       "99  1.333650e+12  \n",
       "\n",
       "[100 rows x 7 columns]"
      ]
     },
     "execution_count": 30,
     "metadata": {},
     "output_type": "execute_result"
    }
   ],
   "source": [
    "# Load your DataFrame from a CSV file\n",
    "df = pd.read_csv('bitcoin_dataset.csv')\n",
    "df"
   ]
  },
  {
   "cell_type": "markdown",
   "metadata": {},
   "source": [
    "#### 1. Filter rows where the 'Close' price is greater than the 'Open' price"
   ]
  },
  {
   "cell_type": "code",
   "execution_count": 31,
   "metadata": {},
   "outputs": [
    {
     "name": "stdout",
     "output_type": "stream",
     "text": [
      "Rows where Close price is greater than Open price:\n",
      "          Date        Open        High         Low       Close  Volume  \\\n",
      "0   2024-09-09  54885.6735  55585.8705  54577.1040  55277.4629    3922   \n",
      "1   2024-09-08  54171.2551  55328.6738  53630.8434  54889.4399    6472   \n",
      "2   2024-09-07  53986.9493  54892.5449  53775.0980  54186.2042    6160   \n",
      "5   2024-09-04  57488.1125  58539.4158  55614.8874  57984.8918   19553   \n",
      "7   2024-09-02  57309.4442  59438.0155  57145.0766  59156.9152    7404   \n",
      "11  2024-08-29  59052.0793  61196.4107  58739.2547  59375.5798   15403   \n",
      "15  2024-08-25  64185.4726  65105.8167  63834.2012  64282.8296    1504   \n",
      "16  2024-08-24  64100.5863  64517.0810  63613.7813  64182.4397    1792   \n",
      "17  2024-08-23  60397.0878  64991.6888  60371.1148  64094.4850    6064   \n",
      "19  2024-08-21  59027.9017  61262.0669  58813.0805  61013.2536   13225   \n",
      "21  2024-08-19  58440.4816  59637.5259  57832.9159  59466.3077   11763   \n",
      "23  2024-08-17  58891.4061  59711.0060  58814.3936  59497.6669    4049   \n",
      "24  2024-08-16  57547.2765  59865.0578  57100.1509  58891.0516   16280   \n",
      "27  2024-08-13  59363.3095  61609.3385  58426.1508  60609.9374   16131   \n",
      "28  2024-08-12  58721.3915  60714.7154  57663.5495  59362.9540   17573   \n",
      "30  2024-08-10  60861.8993  61492.8484  60264.2315  60942.3369    4723   \n",
      "32  2024-08-08  55143.8428  62746.7327  54746.9208  61708.9951   28481   \n",
      "34  2024-08-06  54044.8896  57090.2297  53978.6579  56058.9661   21234   \n",
      "39  2024-08-01  64617.9204  65596.3961  62230.3209  65301.8040   21769   \n",
      "43  2024-07-28  67894.4083  68309.8891  67040.1206  68254.1721    4816   \n",
      "45  2024-07-26  65800.2946  68252.0107  65718.5912  67930.3507   13042   \n",
      "46  2024-07-25  65370.3687  66159.9848  63423.8517  65799.2439   14849   \n",
      "50  2024-07-21  67170.5364  68380.4631  65834.6905  68180.8762    9203   \n",
      "51  2024-07-20  66712.7271  67634.4005  66281.0004  67167.2339    6607   \n",
      "52  2024-07-19  63980.0903  67493.6398  63300.1956  66711.1001   20573   \n",
      "55  2024-07-16  64763.3036  65367.6664  62425.6750  65089.7077   20571   \n",
      "56  2024-07-15  60814.5227  64942.3011  60679.6290  64766.8665   27666   \n",
      "57  2024-07-14  59246.8885  61436.5853  59236.4684  60825.8906    9347   \n",
      "58  2024-07-13  57921.8193  59884.8259  57789.3306  59239.3044    6781   \n",
      "59  2024-07-12  57352.6243  58554.4631  56549.4358  57916.0356   14854   \n",
      "62  2024-07-09  56714.7773  58301.0296  56297.0214  58055.7414   16724   \n",
      "63  2024-07-08  55864.3083  58207.9795  54297.2586  56712.7571   25909   \n",
      "65  2024-07-06  56653.9035  58490.8707  56050.0375  58258.0635    9566   \n",
      "70  2024-07-01  62680.1992  63805.4658  62459.8882  62836.6611   16173   \n",
      "71  2024-06-30  60902.7821  62957.0658  60636.2515  62689.4414    6316   \n",
      "72  2024-06-29  60351.7770  61159.0118  60317.7892  60917.6357    4782   \n",
      "74  2024-06-27  60829.4110  62356.1977  60565.1319  61635.7151   14273   \n",
      "76  2024-06-25  60269.3222  62403.3041  60228.4261  61797.4022   21352   \n",
      "79  2024-06-22  64137.8610  64532.5391  63935.2992  64256.4758    3235   \n",
      "85  2024-06-16  66193.2732  66926.3705  66008.0772  66633.1169    3474   \n",
      "86  2024-06-15  66003.0090  66424.2942  65810.8475  66191.9678    3107   \n",
      "89  2024-06-12  67316.5113  70026.5463  66889.8011  68248.5054   22272   \n",
      "92  2024-06-09  69308.9634  69838.3565  69122.6394  69638.9143    2947   \n",
      "96  2024-06-05  70546.7904  71787.9088  70253.1417  71118.9517   14281   \n",
      "97  2024-06-04  68794.7811  71101.5573  68548.3679  70547.8996   22694   \n",
      "98  2024-06-03  67739.0324  70286.0356  67577.7899  68797.4860   16664   \n",
      "99  2024-06-02  67721.4875  68409.6321  67268.1390  67741.2921    3979   \n",
      "\n",
      "      Market Cap  \n",
      "0   1.085390e+12  \n",
      "1   1.068955e+12  \n",
      "2   1.065462e+12  \n",
      "5   1.137362e+12  \n",
      "7   1.133133e+12  \n",
      "11  1.166032e+12  \n",
      "15  1.264962e+12  \n",
      "16  1.261916e+12  \n",
      "17  1.192308e+12  \n",
      "19  1.166089e+12  \n",
      "21  1.156217e+12  \n",
      "23  1.162716e+12  \n",
      "24  1.137142e+12  \n",
      "27  1.171442e+12  \n",
      "28  1.159147e+12  \n",
      "30  1.198301e+12  \n",
      "32  1.088567e+12  \n",
      "34  1.064889e+12  \n",
      "39  1.275401e+12  \n",
      "43  1.342889e+12  \n",
      "45  1.297125e+12  \n",
      "46  1.290447e+12  \n",
      "50  1.325659e+12  \n",
      "51  1.316147e+12  \n",
      "52  1.261456e+12  \n",
      "55  1.277807e+12  \n",
      "56  1.204059e+12  \n",
      "57  1.168372e+12  \n",
      "58  1.141567e+12  \n",
      "59  1.130277e+12  \n",
      "62  1.117615e+12  \n",
      "63  1.100452e+12  \n",
      "65  1.118491e+12  \n",
      "70  1.236677e+12  \n",
      "71  1.199793e+12  \n",
      "72  1.189570e+12  \n",
      "74  1.198205e+12  \n",
      "76  1.188965e+12  \n",
      "79  1.263259e+12  \n",
      "85  1.304370e+12  \n",
      "86  1.301949e+12  \n",
      "89  1.327665e+12  \n",
      "92  1.366066e+12  \n",
      "96  1.390853e+12  \n",
      "97  1.355485e+12  \n",
      "98  1.335931e+12  \n",
      "99  1.333650e+12  \n"
     ]
    }
   ],
   "source": [
    "close_greater_than_open = df[df['Close'] > df['Open']]\n",
    "\n",
    "# Display filtered DataFrame\n",
    "print(\"Rows where Close price is greater than Open price:\")\n",
    "print(close_greater_than_open)"
   ]
  },
  {
   "cell_type": "markdown",
   "metadata": {},
   "source": [
    "#### 2. Filter rows where the 'Volume' is higher than the average trading volume"
   ]
  },
  {
   "cell_type": "markdown",
   "metadata": {},
   "source": [
    "####  Calculate Average Trading Volume"
   ]
  },
  {
   "cell_type": "code",
   "execution_count": 32,
   "metadata": {},
   "outputs": [
    {
     "name": "stdout",
     "output_type": "stream",
     "text": [
      "14301.42\n"
     ]
    }
   ],
   "source": [
    "# Calculate the average trading volume\n",
    "average_volume = df['Volume'].mean()\n",
    "print(average_volume)"
   ]
  },
  {
   "cell_type": "code",
   "execution_count": 33,
   "metadata": {
    "scrolled": true
   },
   "outputs": [
    {
     "name": "stdout",
     "output_type": "stream",
     "text": [
      "\n",
      " Rows where Volume is higher than the average volume: \n",
      "\n",
      "          Date        Open        High         Low       Close  Volume  \\\n",
      "3   2024-09-06  56174.8742  57004.0633  52555.1342  53967.3797   26159   \n",
      "4   2024-09-05  57989.7989  58337.9216  55647.8231  56178.0057   17146   \n",
      "5   2024-09-04  57488.1125  58539.4158  55614.8874  57984.8918   19553   \n",
      "11  2024-08-29  59052.0793  61196.4107  58739.2547  59375.5798   15403   \n",
      "12  2024-08-28  59442.8476  60234.4299  57867.9188  59048.7648   15011   \n",
      "13  2024-08-27  62792.0244  63231.0873  58044.8491  59445.3731   19005   \n",
      "20  2024-08-20  59467.7773  61448.1425  58579.8242  59027.5628   16294   \n",
      "24  2024-08-16  57547.2765  59865.0578  57100.1509  58891.0516   16280   \n",
      "25  2024-08-15  58695.4221  59878.2789  56128.4849  57548.4441   20246   \n",
      "26  2024-08-14  60607.0322  61824.3355  58461.5690  58697.0327   18192   \n",
      "27  2024-08-13  59363.3095  61609.3385  58426.1508  60609.9374   16131   \n",
      "28  2024-08-12  58721.3915  60714.7154  57663.5495  59362.9540   17573   \n",
      "31  2024-08-09  61710.6346  61760.0402  59558.9783  60863.4492   15500   \n",
      "32  2024-08-08  55143.8428  62746.7327  54746.9208  61708.9951   28481   \n",
      "33  2024-08-07  56053.5599  57754.5320  54569.3721  55144.7624   20453   \n",
      "34  2024-08-06  54044.8896  57090.2297  53978.6579  56058.9661   21234   \n",
      "35  2024-08-05  58136.5648  58287.1297  49119.8297  54037.0218   81896   \n",
      "36  2024-08-04  60681.4917  61083.9514  57141.0091  58135.2401   14551   \n",
      "38  2024-08-02  65302.7842  65559.4327  61162.9736  61424.1606   21837   \n",
      "39  2024-08-01  64617.9204  65596.3961  62230.3209  65301.8040   21769   \n",
      "42  2024-07-29  68255.1930  70011.6646  66429.8759  66782.9995   18999   \n",
      "46  2024-07-25  65370.3687  66159.9848  63423.8517  65799.2439   14849   \n",
      "48  2024-07-23  67567.3383  67786.8170  65451.0213  65942.9473   15659   \n",
      "49  2024-07-22  68181.8967  68496.0750  66578.9525  67566.0392   16059   \n",
      "52  2024-07-19  63980.0903  67493.6398  63300.1956  66711.1001   20573   \n",
      "54  2024-07-17  65087.8466  66133.3216  63863.3166  64093.7365   14307   \n",
      "55  2024-07-16  64763.3036  65367.6664  62425.6750  65089.7077   20571   \n",
      "56  2024-07-15  60814.5227  64942.3011  60679.6290  64766.8665   27666   \n",
      "59  2024-07-12  57352.6243  58554.4631  56549.4358  57916.0356   14854   \n",
      "60  2024-07-11  57729.1281  59538.9250  57062.0504  57351.9531   16181   \n",
      "61  2024-07-10  58052.3946  59486.3925  57168.5649  57730.5104   15810   \n",
      "62  2024-07-09  56714.7773  58301.0296  56297.0214  58055.7414   16724   \n",
      "63  2024-07-08  55864.3083  58207.9795  54297.2586  56712.7571   25909   \n",
      "66  2024-07-05  57041.6898  57520.8348  53481.9737  56649.0461   37240   \n",
      "67  2024-07-04  60163.5651  60439.7319  56726.7324  57049.2000   24261   \n",
      "68  2024-07-03  62050.6461  62207.4260  59342.8145  60155.0311   16459   \n",
      "70  2024-07-01  62680.1992  63805.4658  62459.8882  62836.6611   16173   \n",
      "73  2024-06-28  61622.2580  62173.7588  59892.4368  60327.5649   15027   \n",
      "75  2024-06-26  61800.5949  62474.8979  60667.1578  60821.9519   14506   \n",
      "76  2024-06-25  60269.3222  62403.3041  60228.4261  61797.4022   21352   \n",
      "77  2024-06-24  63178.2357  63345.9906  58433.7926  60273.7886   31082   \n",
      "83  2024-06-18  66487.2549  66573.7735  64026.4311  65159.5009   21603   \n",
      "84  2024-06-17  66630.5646  67273.1309  65056.6521  66483.4720   18813   \n",
      "87  2024-06-14  66751.6157  67322.4438  65002.4355  66004.5538   16403   \n",
      "88  2024-06-13  68248.3123  68467.9331  66212.8081  66739.6731   15676   \n",
      "89  2024-06-12  67316.5113  70026.5463  66889.8011  68248.5054   22272   \n",
      "90  2024-06-11  69501.3280  69548.5697  66032.5416  67317.1249   23048   \n",
      "94  2024-06-07  70777.0830  71963.2322  68340.9771  69330.6819   20405   \n",
      "97  2024-06-04  68794.7811  71101.5573  68548.3679  70547.8996   22694   \n",
      "98  2024-06-03  67739.0324  70286.0356  67577.7899  68797.4860   16664   \n",
      "\n",
      "      Market Cap  \n",
      "3   1.109213e+12  \n",
      "4   1.144983e+12  \n",
      "5   1.137362e+12  \n",
      "11  1.166032e+12  \n",
      "12  1.176762e+12  \n",
      "13  1.242488e+12  \n",
      "20  1.176063e+12  \n",
      "24  1.137142e+12  \n",
      "25  1.159479e+12  \n",
      "26  1.195798e+12  \n",
      "27  1.171442e+12  \n",
      "28  1.159147e+12  \n",
      "31  1.218343e+12  \n",
      "32  1.088567e+12  \n",
      "33  1.104019e+12  \n",
      "34  1.064889e+12  \n",
      "35  1.147855e+12  \n",
      "36  1.197962e+12  \n",
      "38  1.289157e+12  \n",
      "39  1.275401e+12  \n",
      "42  1.346263e+12  \n",
      "46  1.290447e+12  \n",
      "48  1.333202e+12  \n",
      "49  1.343347e+12  \n",
      "52  1.261456e+12  \n",
      "54  1.284900e+12  \n",
      "55  1.277807e+12  \n",
      "56  1.204059e+12  \n",
      "59  1.130277e+12  \n",
      "60  1.139351e+12  \n",
      "61  1.144795e+12  \n",
      "62  1.117615e+12  \n",
      "63  1.100452e+12  \n",
      "66  1.130122e+12  \n",
      "67  1.186937e+12  \n",
      "68  1.222902e+12  \n",
      "70  1.236677e+12  \n",
      "73  1.213932e+12  \n",
      "75  1.217935e+12  \n",
      "76  1.188965e+12  \n",
      "77  1.248189e+12  \n",
      "83  1.309329e+12  \n",
      "84  1.313849e+12  \n",
      "87  1.317161e+12  \n",
      "88  1.345244e+12  \n",
      "89  1.327665e+12  \n",
      "90  1.369379e+12  \n",
      "94  1.394882e+12  \n",
      "97  1.355485e+12  \n",
      "98  1.335931e+12  \n"
     ]
    }
   ],
   "source": [
    "high_volume_days = df[df['Volume'] > average_volume]\n",
    "print(\"\\n Rows where Volume is higher than the average volume: \\n\")\n",
    "print(high_volume_days)"
   ]
  },
  {
   "cell_type": "markdown",
   "metadata": {},
   "source": [
    "#### 3. Combine both conditions: Close > Open and Volume > Average Volume"
   ]
  },
  {
   "cell_type": "code",
   "execution_count": 34,
   "metadata": {
    "scrolled": true
   },
   "outputs": [
    {
     "name": "stdout",
     "output_type": "stream",
     "text": [
      "\n",
      " Rows where both Close > Open and Volume > Average Volume: \n",
      " \n",
      "          Date        Open        High         Low       Close  Volume  \\\n",
      "5   2024-09-04  57488.1125  58539.4158  55614.8874  57984.8918   19553   \n",
      "11  2024-08-29  59052.0793  61196.4107  58739.2547  59375.5798   15403   \n",
      "24  2024-08-16  57547.2765  59865.0578  57100.1509  58891.0516   16280   \n",
      "27  2024-08-13  59363.3095  61609.3385  58426.1508  60609.9374   16131   \n",
      "28  2024-08-12  58721.3915  60714.7154  57663.5495  59362.9540   17573   \n",
      "32  2024-08-08  55143.8428  62746.7327  54746.9208  61708.9951   28481   \n",
      "34  2024-08-06  54044.8896  57090.2297  53978.6579  56058.9661   21234   \n",
      "39  2024-08-01  64617.9204  65596.3961  62230.3209  65301.8040   21769   \n",
      "46  2024-07-25  65370.3687  66159.9848  63423.8517  65799.2439   14849   \n",
      "52  2024-07-19  63980.0903  67493.6398  63300.1956  66711.1001   20573   \n",
      "55  2024-07-16  64763.3036  65367.6664  62425.6750  65089.7077   20571   \n",
      "56  2024-07-15  60814.5227  64942.3011  60679.6290  64766.8665   27666   \n",
      "59  2024-07-12  57352.6243  58554.4631  56549.4358  57916.0356   14854   \n",
      "62  2024-07-09  56714.7773  58301.0296  56297.0214  58055.7414   16724   \n",
      "63  2024-07-08  55864.3083  58207.9795  54297.2586  56712.7571   25909   \n",
      "70  2024-07-01  62680.1992  63805.4658  62459.8882  62836.6611   16173   \n",
      "76  2024-06-25  60269.3222  62403.3041  60228.4261  61797.4022   21352   \n",
      "89  2024-06-12  67316.5113  70026.5463  66889.8011  68248.5054   22272   \n",
      "97  2024-06-04  68794.7811  71101.5573  68548.3679  70547.8996   22694   \n",
      "98  2024-06-03  67739.0324  70286.0356  67577.7899  68797.4860   16664   \n",
      "\n",
      "      Market Cap  \n",
      "5   1.137362e+12  \n",
      "11  1.166032e+12  \n",
      "24  1.137142e+12  \n",
      "27  1.171442e+12  \n",
      "28  1.159147e+12  \n",
      "32  1.088567e+12  \n",
      "34  1.064889e+12  \n",
      "39  1.275401e+12  \n",
      "46  1.290447e+12  \n",
      "52  1.261456e+12  \n",
      "55  1.277807e+12  \n",
      "56  1.204059e+12  \n",
      "59  1.130277e+12  \n",
      "62  1.117615e+12  \n",
      "63  1.100452e+12  \n",
      "70  1.236677e+12  \n",
      "76  1.188965e+12  \n",
      "89  1.327665e+12  \n",
      "97  1.355485e+12  \n",
      "98  1.335931e+12  \n"
     ]
    }
   ],
   "source": [
    "positive_gain_high_volume = df[(df['Close'] > df['Open']) & (df['Volume'] > average_volume)]\n",
    "print(\"\\n Rows where both Close > Open and Volume > Average Volume: \\n \")\n",
    "print(positive_gain_high_volume)"
   ]
  },
  {
   "cell_type": "code",
   "execution_count": 35,
   "metadata": {},
   "outputs": [],
   "source": [
    "positive_gain_high_volume.to_csv('filtered_bitcoin_data.csv', index=False)"
   ]
  },
  {
   "cell_type": "markdown",
   "metadata": {},
   "source": [
    "#### 5. For Loop and Conditional Statements"
   ]
  },
  {
   "cell_type": "code",
   "execution_count": 36,
   "metadata": {},
   "outputs": [
    {
     "data": {
      "text/html": [
       "<div>\n",
       "<style scoped>\n",
       "    .dataframe tbody tr th:only-of-type {\n",
       "        vertical-align: middle;\n",
       "    }\n",
       "\n",
       "    .dataframe tbody tr th {\n",
       "        vertical-align: top;\n",
       "    }\n",
       "\n",
       "    .dataframe thead th {\n",
       "        text-align: right;\n",
       "    }\n",
       "</style>\n",
       "<table border=\"1\" class=\"dataframe\">\n",
       "  <thead>\n",
       "    <tr style=\"text-align: right;\">\n",
       "      <th></th>\n",
       "      <th>Date</th>\n",
       "      <th>Open</th>\n",
       "      <th>High</th>\n",
       "      <th>Low</th>\n",
       "      <th>Close</th>\n",
       "      <th>Volume</th>\n",
       "      <th>Market Cap</th>\n",
       "      <th>Price Change</th>\n",
       "      <th>Price Trend</th>\n",
       "    </tr>\n",
       "  </thead>\n",
       "  <tbody>\n",
       "    <tr>\n",
       "      <th>0</th>\n",
       "      <td>2024-09-09</td>\n",
       "      <td>54885.6735</td>\n",
       "      <td>55585.8705</td>\n",
       "      <td>54577.1040</td>\n",
       "      <td>55277.4629</td>\n",
       "      <td>3922</td>\n",
       "      <td>1.085390e+12</td>\n",
       "      <td>391.7894</td>\n",
       "      <td>Up</td>\n",
       "    </tr>\n",
       "    <tr>\n",
       "      <th>1</th>\n",
       "      <td>2024-09-08</td>\n",
       "      <td>54171.2551</td>\n",
       "      <td>55328.6738</td>\n",
       "      <td>53630.8434</td>\n",
       "      <td>54889.4399</td>\n",
       "      <td>6472</td>\n",
       "      <td>1.068955e+12</td>\n",
       "      <td>718.1848</td>\n",
       "      <td>Up</td>\n",
       "    </tr>\n",
       "    <tr>\n",
       "      <th>2</th>\n",
       "      <td>2024-09-07</td>\n",
       "      <td>53986.9493</td>\n",
       "      <td>54892.5449</td>\n",
       "      <td>53775.0980</td>\n",
       "      <td>54186.2042</td>\n",
       "      <td>6160</td>\n",
       "      <td>1.065462e+12</td>\n",
       "      <td>199.2549</td>\n",
       "      <td>Up</td>\n",
       "    </tr>\n",
       "    <tr>\n",
       "      <th>3</th>\n",
       "      <td>2024-09-06</td>\n",
       "      <td>56174.8742</td>\n",
       "      <td>57004.0633</td>\n",
       "      <td>52555.1342</td>\n",
       "      <td>53967.3797</td>\n",
       "      <td>26159</td>\n",
       "      <td>1.109213e+12</td>\n",
       "      <td>-2207.4945</td>\n",
       "      <td>Down</td>\n",
       "    </tr>\n",
       "    <tr>\n",
       "      <th>4</th>\n",
       "      <td>2024-09-05</td>\n",
       "      <td>57989.7989</td>\n",
       "      <td>58337.9216</td>\n",
       "      <td>55647.8231</td>\n",
       "      <td>56178.0057</td>\n",
       "      <td>17146</td>\n",
       "      <td>1.144983e+12</td>\n",
       "      <td>-1811.7932</td>\n",
       "      <td>Down</td>\n",
       "    </tr>\n",
       "  </tbody>\n",
       "</table>\n",
       "</div>"
      ],
      "text/plain": [
       "         Date        Open        High         Low       Close  Volume  \\\n",
       "0  2024-09-09  54885.6735  55585.8705  54577.1040  55277.4629    3922   \n",
       "1  2024-09-08  54171.2551  55328.6738  53630.8434  54889.4399    6472   \n",
       "2  2024-09-07  53986.9493  54892.5449  53775.0980  54186.2042    6160   \n",
       "3  2024-09-06  56174.8742  57004.0633  52555.1342  53967.3797   26159   \n",
       "4  2024-09-05  57989.7989  58337.9216  55647.8231  56178.0057   17146   \n",
       "\n",
       "     Market Cap  Price Change Price Trend  \n",
       "0  1.085390e+12      391.7894          Up  \n",
       "1  1.068955e+12      718.1848          Up  \n",
       "2  1.065462e+12      199.2549          Up  \n",
       "3  1.109213e+12    -2207.4945        Down  \n",
       "4  1.144983e+12    -1811.7932        Down  "
      ]
     },
     "execution_count": 36,
     "metadata": {},
     "output_type": "execute_result"
    }
   ],
   "source": [
    "# Add a new column 'Price Change' to calculate the difference between 'Close' and 'Open'\n",
    "df['Price Change'] = df['Close'] - df['Open']\n",
    "\n",
    "# Add a new column 'Price Trend' based on whether 'Close' is higher than 'Open'\n",
    "df['Price Trend'] = ['Up' if close > open else 'Down' for open, close in zip(df['Open'], df['Close'])]\n",
    "\n",
    "# Display the updated DataFrame\n",
    "df.head()\n"
   ]
  }
 ],
 "metadata": {
  "kernelspec": {
   "display_name": "Python 3 (ipykernel)",
   "language": "python",
   "name": "python3"
  },
  "language_info": {
   "codemirror_mode": {
    "name": "ipython",
    "version": 3
   },
   "file_extension": ".py",
   "mimetype": "text/x-python",
   "name": "python",
   "nbconvert_exporter": "python",
   "pygments_lexer": "ipython3",
   "version": "3.11.7"
  }
 },
 "nbformat": 4,
 "nbformat_minor": 4
}
